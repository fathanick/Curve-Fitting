{
 "cells": [
  {
   "cell_type": "markdown",
   "metadata": {},
   "source": [
    "# Linear Interpolation\n",
    "\n",
    "Source: https://www.math.ucla.edu/~anderson/rw1001/library/base/html/approxfun.html\n",
    "\n",
    "To perform interpolation in R, we can use one of both functions, **approx()** or **approxfun()**.\n",
    "The function **approx()**  returns a list with components x and y, containing n coordinates which interpolate the given data points according to the method (and rule) desired.\n",
    "\n",
    "The function **approxfun()** returns a function performing (linear or constant) interpolation of the given data points. For a given set of x values, this function will return the corresponding interpolated values. This is often more useful than approx.\n",
    "\n",
    "For example, we have the following set of data points:\n",
    "\n",
    "| xi   | yi     |\n",
    "|------|--------|\n",
    "| 0    |   0    |\n",
    "| 10   | 227.04 |\n",
    "| 15   | 362.78 |\n",
    "| 20   | 517.35 |\n",
    "| 22.5 | 602.97 |\n",
    "| 30   | 901.67 |\n",
    "\n",
    "Find P(16)!"
   ]
  },
  {
   "cell_type": "code",
   "execution_count": 23,
   "metadata": {},
   "outputs": [
    {
     "data": {
      "text/html": [
       "<dl>\n",
       "\t<dt>$x</dt>\n",
       "\t\t<dd><ol class=list-inline>\n",
       "\t<li>0</li>\n",
       "\t<li>0.612244897959184</li>\n",
       "\t<li>1.22448979591837</li>\n",
       "\t<li>1.83673469387755</li>\n",
       "\t<li>2.44897959183673</li>\n",
       "\t<li>3.06122448979592</li>\n",
       "\t<li>3.6734693877551</li>\n",
       "\t<li>4.28571428571429</li>\n",
       "\t<li>4.89795918367347</li>\n",
       "\t<li>5.51020408163265</li>\n",
       "\t<li>6.12244897959184</li>\n",
       "\t<li>6.73469387755102</li>\n",
       "\t<li>7.3469387755102</li>\n",
       "\t<li>7.95918367346939</li>\n",
       "\t<li>8.57142857142857</li>\n",
       "\t<li>9.18367346938776</li>\n",
       "\t<li>9.79591836734694</li>\n",
       "\t<li>10.4081632653061</li>\n",
       "\t<li>11.0204081632653</li>\n",
       "\t<li>11.6326530612245</li>\n",
       "\t<li>12.2448979591837</li>\n",
       "\t<li>12.8571428571429</li>\n",
       "\t<li>13.469387755102</li>\n",
       "\t<li>14.0816326530612</li>\n",
       "\t<li>14.6938775510204</li>\n",
       "\t<li>15.3061224489796</li>\n",
       "\t<li>15.9183673469388</li>\n",
       "\t<li>16.530612244898</li>\n",
       "\t<li>17.1428571428571</li>\n",
       "\t<li>17.7551020408163</li>\n",
       "\t<li>18.3673469387755</li>\n",
       "\t<li>18.9795918367347</li>\n",
       "\t<li>19.5918367346939</li>\n",
       "\t<li>20.2040816326531</li>\n",
       "\t<li>20.8163265306122</li>\n",
       "\t<li>21.4285714285714</li>\n",
       "\t<li>22.0408163265306</li>\n",
       "\t<li>22.6530612244898</li>\n",
       "\t<li>23.265306122449</li>\n",
       "\t<li>23.8775510204082</li>\n",
       "\t<li>24.4897959183673</li>\n",
       "\t<li>25.1020408163265</li>\n",
       "\t<li>25.7142857142857</li>\n",
       "\t<li>26.3265306122449</li>\n",
       "\t<li>26.9387755102041</li>\n",
       "\t<li>27.5510204081633</li>\n",
       "\t<li>28.1632653061225</li>\n",
       "\t<li>28.7755102040816</li>\n",
       "\t<li>29.3877551020408</li>\n",
       "\t<li>30</li>\n",
       "</ol>\n",
       "</dd>\n",
       "\t<dt>$y</dt>\n",
       "\t\t<dd><ol class=list-inline>\n",
       "\t<li>0</li>\n",
       "\t<li>13.9004081632653</li>\n",
       "\t<li>27.8008163265306</li>\n",
       "\t<li>41.7012244897959</li>\n",
       "\t<li>55.6016326530612</li>\n",
       "\t<li>69.5020408163265</li>\n",
       "\t<li>83.4024489795918</li>\n",
       "\t<li>97.3028571428571</li>\n",
       "\t<li>111.203265306122</li>\n",
       "\t<li>125.103673469388</li>\n",
       "\t<li>139.004081632653</li>\n",
       "\t<li>152.904489795918</li>\n",
       "\t<li>166.804897959184</li>\n",
       "\t<li>180.705306122449</li>\n",
       "\t<li>194.605714285714</li>\n",
       "\t<li>208.50612244898</li>\n",
       "\t<li>222.406530612245</li>\n",
       "\t<li>238.120816326531</li>\n",
       "\t<li>254.742040816327</li>\n",
       "\t<li>271.363265306122</li>\n",
       "\t<li>287.984489795918</li>\n",
       "\t<li>304.605714285714</li>\n",
       "\t<li>321.22693877551</li>\n",
       "\t<li>337.848163265306</li>\n",
       "\t<li>354.469387755102</li>\n",
       "\t<li>372.243469387755</li>\n",
       "\t<li>391.170408163265</li>\n",
       "\t<li>410.097346938776</li>\n",
       "\t<li>429.024285714286</li>\n",
       "\t<li>447.951224489796</li>\n",
       "\t<li>466.878163265306</li>\n",
       "\t<li>485.805102040816</li>\n",
       "\t<li>504.732040816327</li>\n",
       "\t<li>524.339387755102</li>\n",
       "\t<li>545.307551020408</li>\n",
       "\t<li>566.275714285714</li>\n",
       "\t<li>587.24387755102</li>\n",
       "\t<li>609.065918367347</li>\n",
       "\t<li>633.449591836735</li>\n",
       "\t<li>657.833265306122</li>\n",
       "\t<li>682.21693877551</li>\n",
       "\t<li>706.600612244898</li>\n",
       "\t<li>730.984285714286</li>\n",
       "\t<li>755.367959183674</li>\n",
       "\t<li>779.751632653061</li>\n",
       "\t<li>804.135306122449</li>\n",
       "\t<li>828.518979591837</li>\n",
       "\t<li>852.902653061225</li>\n",
       "\t<li>877.286326530612</li>\n",
       "\t<li>901.67</li>\n",
       "</ol>\n",
       "</dd>\n",
       "</dl>\n"
      ],
      "text/latex": [
       "\\begin{description}\n",
       "\\item[\\$x] \\begin{enumerate*}\n",
       "\\item 0\n",
       "\\item 0.612244897959184\n",
       "\\item 1.22448979591837\n",
       "\\item 1.83673469387755\n",
       "\\item 2.44897959183673\n",
       "\\item 3.06122448979592\n",
       "\\item 3.6734693877551\n",
       "\\item 4.28571428571429\n",
       "\\item 4.89795918367347\n",
       "\\item 5.51020408163265\n",
       "\\item 6.12244897959184\n",
       "\\item 6.73469387755102\n",
       "\\item 7.3469387755102\n",
       "\\item 7.95918367346939\n",
       "\\item 8.57142857142857\n",
       "\\item 9.18367346938776\n",
       "\\item 9.79591836734694\n",
       "\\item 10.4081632653061\n",
       "\\item 11.0204081632653\n",
       "\\item 11.6326530612245\n",
       "\\item 12.2448979591837\n",
       "\\item 12.8571428571429\n",
       "\\item 13.469387755102\n",
       "\\item 14.0816326530612\n",
       "\\item 14.6938775510204\n",
       "\\item 15.3061224489796\n",
       "\\item 15.9183673469388\n",
       "\\item 16.530612244898\n",
       "\\item 17.1428571428571\n",
       "\\item 17.7551020408163\n",
       "\\item 18.3673469387755\n",
       "\\item 18.9795918367347\n",
       "\\item 19.5918367346939\n",
       "\\item 20.2040816326531\n",
       "\\item 20.8163265306122\n",
       "\\item 21.4285714285714\n",
       "\\item 22.0408163265306\n",
       "\\item 22.6530612244898\n",
       "\\item 23.265306122449\n",
       "\\item 23.8775510204082\n",
       "\\item 24.4897959183673\n",
       "\\item 25.1020408163265\n",
       "\\item 25.7142857142857\n",
       "\\item 26.3265306122449\n",
       "\\item 26.9387755102041\n",
       "\\item 27.5510204081633\n",
       "\\item 28.1632653061225\n",
       "\\item 28.7755102040816\n",
       "\\item 29.3877551020408\n",
       "\\item 30\n",
       "\\end{enumerate*}\n",
       "\n",
       "\\item[\\$y] \\begin{enumerate*}\n",
       "\\item 0\n",
       "\\item 13.9004081632653\n",
       "\\item 27.8008163265306\n",
       "\\item 41.7012244897959\n",
       "\\item 55.6016326530612\n",
       "\\item 69.5020408163265\n",
       "\\item 83.4024489795918\n",
       "\\item 97.3028571428571\n",
       "\\item 111.203265306122\n",
       "\\item 125.103673469388\n",
       "\\item 139.004081632653\n",
       "\\item 152.904489795918\n",
       "\\item 166.804897959184\n",
       "\\item 180.705306122449\n",
       "\\item 194.605714285714\n",
       "\\item 208.50612244898\n",
       "\\item 222.406530612245\n",
       "\\item 238.120816326531\n",
       "\\item 254.742040816327\n",
       "\\item 271.363265306122\n",
       "\\item 287.984489795918\n",
       "\\item 304.605714285714\n",
       "\\item 321.22693877551\n",
       "\\item 337.848163265306\n",
       "\\item 354.469387755102\n",
       "\\item 372.243469387755\n",
       "\\item 391.170408163265\n",
       "\\item 410.097346938776\n",
       "\\item 429.024285714286\n",
       "\\item 447.951224489796\n",
       "\\item 466.878163265306\n",
       "\\item 485.805102040816\n",
       "\\item 504.732040816327\n",
       "\\item 524.339387755102\n",
       "\\item 545.307551020408\n",
       "\\item 566.275714285714\n",
       "\\item 587.24387755102\n",
       "\\item 609.065918367347\n",
       "\\item 633.449591836735\n",
       "\\item 657.833265306122\n",
       "\\item 682.21693877551\n",
       "\\item 706.600612244898\n",
       "\\item 730.984285714286\n",
       "\\item 755.367959183674\n",
       "\\item 779.751632653061\n",
       "\\item 804.135306122449\n",
       "\\item 828.518979591837\n",
       "\\item 852.902653061225\n",
       "\\item 877.286326530612\n",
       "\\item 901.67\n",
       "\\end{enumerate*}\n",
       "\n",
       "\\end{description}\n"
      ],
      "text/markdown": [
       "$x\n",
       ":   1. 0\n",
       "2. 0.612244897959184\n",
       "3. 1.22448979591837\n",
       "4. 1.83673469387755\n",
       "5. 2.44897959183673\n",
       "6. 3.06122448979592\n",
       "7. 3.6734693877551\n",
       "8. 4.28571428571429\n",
       "9. 4.89795918367347\n",
       "10. 5.51020408163265\n",
       "11. 6.12244897959184\n",
       "12. 6.73469387755102\n",
       "13. 7.3469387755102\n",
       "14. 7.95918367346939\n",
       "15. 8.57142857142857\n",
       "16. 9.18367346938776\n",
       "17. 9.79591836734694\n",
       "18. 10.4081632653061\n",
       "19. 11.0204081632653\n",
       "20. 11.6326530612245\n",
       "21. 12.2448979591837\n",
       "22. 12.8571428571429\n",
       "23. 13.469387755102\n",
       "24. 14.0816326530612\n",
       "25. 14.6938775510204\n",
       "26. 15.3061224489796\n",
       "27. 15.9183673469388\n",
       "28. 16.530612244898\n",
       "29. 17.1428571428571\n",
       "30. 17.7551020408163\n",
       "31. 18.3673469387755\n",
       "32. 18.9795918367347\n",
       "33. 19.5918367346939\n",
       "34. 20.2040816326531\n",
       "35. 20.8163265306122\n",
       "36. 21.4285714285714\n",
       "37. 22.0408163265306\n",
       "38. 22.6530612244898\n",
       "39. 23.265306122449\n",
       "40. 23.8775510204082\n",
       "41. 24.4897959183673\n",
       "42. 25.1020408163265\n",
       "43. 25.7142857142857\n",
       "44. 26.3265306122449\n",
       "45. 26.9387755102041\n",
       "46. 27.5510204081633\n",
       "47. 28.1632653061225\n",
       "48. 28.7755102040816\n",
       "49. 29.3877551020408\n",
       "50. 30\n",
       "\n",
       "\n",
       "\n",
       "$y\n",
       ":   1. 0\n",
       "2. 13.9004081632653\n",
       "3. 27.8008163265306\n",
       "4. 41.7012244897959\n",
       "5. 55.6016326530612\n",
       "6. 69.5020408163265\n",
       "7. 83.4024489795918\n",
       "8. 97.3028571428571\n",
       "9. 111.203265306122\n",
       "10. 125.103673469388\n",
       "11. 139.004081632653\n",
       "12. 152.904489795918\n",
       "13. 166.804897959184\n",
       "14. 180.705306122449\n",
       "15. 194.605714285714\n",
       "16. 208.50612244898\n",
       "17. 222.406530612245\n",
       "18. 238.120816326531\n",
       "19. 254.742040816327\n",
       "20. 271.363265306122\n",
       "21. 287.984489795918\n",
       "22. 304.605714285714\n",
       "23. 321.22693877551\n",
       "24. 337.848163265306\n",
       "25. 354.469387755102\n",
       "26. 372.243469387755\n",
       "27. 391.170408163265\n",
       "28. 410.097346938776\n",
       "29. 429.024285714286\n",
       "30. 447.951224489796\n",
       "31. 466.878163265306\n",
       "32. 485.805102040816\n",
       "33. 504.732040816327\n",
       "34. 524.339387755102\n",
       "35. 545.307551020408\n",
       "36. 566.275714285714\n",
       "37. 587.24387755102\n",
       "38. 609.065918367347\n",
       "39. 633.449591836735\n",
       "40. 657.833265306122\n",
       "41. 682.21693877551\n",
       "42. 706.600612244898\n",
       "43. 730.984285714286\n",
       "44. 755.367959183674\n",
       "45. 779.751632653061\n",
       "46. 804.135306122449\n",
       "47. 828.518979591837\n",
       "48. 852.902653061225\n",
       "49. 877.286326530612\n",
       "50. 901.67\n",
       "\n",
       "\n",
       "\n",
       "\n",
       "\n"
      ],
      "text/plain": [
       "$x\n",
       " [1]  0.0000000  0.6122449  1.2244898  1.8367347  2.4489796  3.0612245\n",
       " [7]  3.6734694  4.2857143  4.8979592  5.5102041  6.1224490  6.7346939\n",
       "[13]  7.3469388  7.9591837  8.5714286  9.1836735  9.7959184 10.4081633\n",
       "[19] 11.0204082 11.6326531 12.2448980 12.8571429 13.4693878 14.0816327\n",
       "[25] 14.6938776 15.3061224 15.9183673 16.5306122 17.1428571 17.7551020\n",
       "[31] 18.3673469 18.9795918 19.5918367 20.2040816 20.8163265 21.4285714\n",
       "[37] 22.0408163 22.6530612 23.2653061 23.8775510 24.4897959 25.1020408\n",
       "[43] 25.7142857 26.3265306 26.9387755 27.5510204 28.1632653 28.7755102\n",
       "[49] 29.3877551 30.0000000\n",
       "\n",
       "$y\n",
       " [1]   0.00000  13.90041  27.80082  41.70122  55.60163  69.50204  83.40245\n",
       " [8]  97.30286 111.20327 125.10367 139.00408 152.90449 166.80490 180.70531\n",
       "[15] 194.60571 208.50612 222.40653 238.12082 254.74204 271.36327 287.98449\n",
       "[22] 304.60571 321.22694 337.84816 354.46939 372.24347 391.17041 410.09735\n",
       "[29] 429.02429 447.95122 466.87816 485.80510 504.73204 524.33939 545.30755\n",
       "[36] 566.27571 587.24388 609.06592 633.44959 657.83327 682.21694 706.60061\n",
       "[43] 730.98429 755.36796 779.75163 804.13531 828.51898 852.90265 877.28633\n",
       "[50] 901.67000\n"
      ]
     },
     "metadata": {},
     "output_type": "display_data"
    },
    {
     "data": {
      "image/png": "[encoded data removed]",
      "text/plain": [
       "plot without title"
      ]
     },
     "metadata": {},
     "output_type": "display_data"
    }
   ],
   "source": [
    "x <- c(0,10,15,20,22.5,30)\n",
    "y <- c(0,227.04,362.78,517.35,602.97,901.67)\n",
    "\n",
    "interp <- approx(x,y)\n",
    "interp\n",
    "plot(x,y,pch=16,cex=2)\n",
    "points(interp,col='red')"
   ]
  },
  {
   "cell_type": "code",
   "execution_count": 13,
   "metadata": {},
   "outputs": [
    {
     "data": {
      "text/html": [
       "<dl>\n",
       "\t<dt>$x</dt>\n",
       "\t\t<dd>16</dd>\n",
       "\t<dt>$y</dt>\n",
       "\t\t<dd>393.694</dd>\n",
       "</dl>\n"
      ],
      "text/latex": [
       "\\begin{description}\n",
       "\\item[\\$x] 16\n",
       "\\item[\\$y] 393.694\n",
       "\\end{description}\n"
      ],
      "text/markdown": [
       "$x\n",
       ":   16\n",
       "$y\n",
       ":   393.694\n",
       "\n",
       "\n"
      ],
      "text/plain": [
       "$x\n",
       "[1] 16\n",
       "\n",
       "$y\n",
       "[1] 393.694\n"
      ]
     },
     "metadata": {},
     "output_type": "display_data"
    }
   ],
   "source": [
    "approx(x,y, xout=16)"
   ]
  },
  {
   "cell_type": "code",
   "execution_count": 19,
   "metadata": {},
   "outputs": [
    {
     "data": {
      "text/html": [
       "<pre class=language-r><code>function (v) \n",
       ".approxfun(x, y, v, method, yleft, yright, f)</code></pre>"
      ],
      "text/latex": [
       "\\begin{minted}{r}\n",
       "function (v) \n",
       ".approxfun(x, y, v, method, yleft, yright, f)\n",
       "\\end{minted}"
      ],
      "text/markdown": [
       "```r\n",
       "function (v) \n",
       ".approxfun(x, y, v, method, yleft, yright, f)\n",
       "```"
      ],
      "text/plain": [
       "function (v) \n",
       ".approxfun(x, y, v, method, yleft, yright, f)\n",
       "<bytecode: 0x000000001b0ecef0>\n",
       "<environment: 0x0000000018f78d50>"
      ]
     },
     "metadata": {},
     "output_type": "display_data"
    }
   ],
   "source": [
    "af <- approxfun(x, y)\n",
    "af"
   ]
  },
  {
   "cell_type": "code",
   "execution_count": 20,
   "metadata": {},
   "outputs": [
    {
     "data": {
      "image/png": "[encoded data removed]",
      "text/plain": [
       "plot without title"
      ]
     },
     "metadata": {},
     "output_type": "display_data"
    }
   ],
   "source": [
    "plot(x,y)\n",
    "curve(af, add=TRUE)"
   ]
  },
  {
   "cell_type": "markdown",
   "metadata": {},
   "source": [
    "# Lagrangian Polynomial Interpolation\n",
    "\n",
    "Source:https://rpubs.com/aaronsc32/lagrangian-polynomial-interpolation-r\n",
    "\n",
    "Lagrangian polynomial interpolation can be performed in R using the **poly.calc()** function from the polynom package.\n",
    "Consider the following set of data points:\n",
    "\n",
    "| xi | yi   |\n",
    "|----|------|\n",
    "| 0  |   1  |\n",
    "| 1  | 2.25 |\n",
    "| 2  | 3.75 |\n",
    "| 3  | 4.25 |"
   ]
  },
  {
   "cell_type": "code",
   "execution_count": 27,
   "metadata": {},
   "outputs": [
    {
     "data": {
      "text/plain": [
       "1 + 0.7083333*x + 0.75*x^2 - 0.2083333*x^3 "
      ]
     },
     "metadata": {},
     "output_type": "display_data"
    }
   ],
   "source": [
    "library(polynom)\n",
    "xi <- c(0, 1, 2, 3)\n",
    "yi <- c(1, 2.25, 3.75, 4.25)\n",
    "\n",
    "dat <- data.frame(cbind(xi, yi))\n",
    "poly.calc(xi, yi)"
   ]
  },
  {
   "cell_type": "code",
   "execution_count": 28,
   "metadata": {},
   "outputs": [
    {
     "data": {
      "text/html": [
       "3.7500002"
      ],
      "text/latex": [
       "3.7500002"
      ],
      "text/markdown": [
       "3.7500002"
      ],
      "text/plain": [
       "[1] 3.75"
      ]
     },
     "metadata": {},
     "output_type": "display_data"
    }
   ],
   "source": [
    "f1 <- function(x){\n",
    "    return (1 + 0.7083333*x + 0.75*x^2 - 0.2083333*x^3)\n",
    "}\n",
    "f1(2)"
   ]
  },
  {
   "cell_type": "code",
   "execution_count": null,
   "metadata": {
    "collapsed": true
   },
   "outputs": [],
   "source": [
    "install.packages(\"ggplot2\")"
   ]
  },
  {
   "cell_type": "code",
   "execution_count": 29,
   "metadata": {},
   "outputs": [
    {
     "data": {},
     "metadata": {},
     "output_type": "display_data"
    },
    {
     "data": {
      "image/png": "[encoded data removed]",
      "text/plain": [
       "plot without title"
      ]
     },
     "metadata": {},
     "output_type": "display_data"
    }
   ],
   "source": [
    "library(ggplot2)\n",
    "ggplot(dat, aes(x=xi, y=yi)) + \n",
    "  geom_point(size=5, col='blue') + \n",
    "  stat_function(fun = f1, size=1.25, alpha=0.4)"
   ]
  }
 ],
 "metadata": {
  "kernelspec": {
   "display_name": "R",
   "language": "R",
   "name": "ir"
  },
  "language_info": {
   "codemirror_mode": "r",
   "file_extension": ".r",
   "mimetype": "text/x-r-source",
   "name": "R",
   "pygments_lexer": "r",
   "version": "3.4.3"
  }
 },
 "nbformat": 4,
 "nbformat_minor": 2
}
